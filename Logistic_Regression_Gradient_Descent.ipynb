{
  "nbformat": 4,
  "nbformat_minor": 0,
  "metadata": {
    "colab": {
      "name": "Logistic_Regression_Gradient_Descent.ipynb",
      "provenance": [],
      "collapsed_sections": [],
      "authorship_tag": "ABX9TyOmwiZIaEBjE+7/kpyK03FY",
      "include_colab_link": true
    },
    "kernelspec": {
      "name": "python3",
      "display_name": "Python 3"
    },
    "language_info": {
      "name": "python"
    }
  },
  "cells": [
    {
      "cell_type": "markdown",
      "metadata": {
        "id": "view-in-github",
        "colab_type": "text"
      },
      "source": [
        "<a href=\"https://colab.research.google.com/github/ND15/Algorithms/blob/main/Logistic_Regression_Gradient_Descent.ipynb\" target=\"_parent\"><img src=\"https://colab.research.google.com/assets/colab-badge.svg\" alt=\"Open In Colab\"/></a>"
      ]
    },
    {
      "cell_type": "code",
      "metadata": {
        "id": "W-hwyTIjSu0A"
      },
      "source": [
        "import numpy as np"
      ],
      "execution_count": 147,
      "outputs": []
    },
    {
      "cell_type": "code",
      "metadata": {
        "id": "UQZtcYrtSzrH"
      },
      "source": [
        "from sklearn import datasets\n",
        "iris = datasets.load_iris()"
      ],
      "execution_count": 148,
      "outputs": []
    },
    {
      "cell_type": "code",
      "metadata": {
        "id": "aM1vsitaS6I1"
      },
      "source": [
        "X = iris[\"data\"][:, :]\n",
        "y = iris[\"target\"]"
      ],
      "execution_count": 149,
      "outputs": []
    },
    {
      "cell_type": "code",
      "metadata": {
        "id": "8_fP2Hg_fQIa"
      },
      "source": [
        "# sigmoid function\n",
        "def sigmoid(z):\n",
        "  deno = 1 + np.exp(-z)\n",
        "  return 1/deno"
      ],
      "execution_count": 150,
      "outputs": []
    },
    {
      "cell_type": "code",
      "metadata": {
        "id": "y08JQbyKTptN"
      },
      "source": [
        "def one_hot_encode(y):\n",
        "  n = y.max() + 1\n",
        "  m = len(y)\n",
        "  y_one_hot = np.zeros((m, n))\n",
        "  y_one_hot[np.arange(m), y] = 1\n",
        "  return y_one_hot"
      ],
      "execution_count": 151,
      "outputs": []
    },
    {
      "cell_type": "code",
      "metadata": {
        "id": "fEhFU0EaUy_E"
      },
      "source": [
        "# Add bias term to X\n",
        "X_new = np.c_[np.ones((len(X), 1)), X]"
      ],
      "execution_count": 152,
      "outputs": []
    },
    {
      "cell_type": "code",
      "metadata": {
        "id": "VgCmjjBsUk-D"
      },
      "source": [
        "from sklearn.model_selection import train_test_split\n",
        "X_train, X_test, y_train, y_test = train_test_split(X_new, y, test_size=0.3, random_state=42)"
      ],
      "execution_count": 153,
      "outputs": []
    },
    {
      "cell_type": "code",
      "metadata": {
        "colab": {
          "base_uri": "https://localhost:8080/"
        },
        "id": "EDwI9pMcVKFD",
        "outputId": "72d6bb38-f34c-4997-affc-117c3e7afcd0"
      },
      "source": [
        "X_train[:10], y_train[:10]"
      ],
      "execution_count": 154,
      "outputs": [
        {
          "output_type": "execute_result",
          "data": {
            "text/plain": [
              "(array([[1. , 5.5, 2.4, 3.7, 1. ],\n",
              "        [1. , 6.3, 2.8, 5.1, 1.5],\n",
              "        [1. , 6.4, 3.1, 5.5, 1.8],\n",
              "        [1. , 6.6, 3. , 4.4, 1.4],\n",
              "        [1. , 7.2, 3.6, 6.1, 2.5],\n",
              "        [1. , 5.7, 2.9, 4.2, 1.3],\n",
              "        [1. , 7.6, 3. , 6.6, 2.1],\n",
              "        [1. , 5.6, 3. , 4.5, 1.5],\n",
              "        [1. , 5.1, 3.5, 1.4, 0.2],\n",
              "        [1. , 7.7, 2.8, 6.7, 2. ]]), array([1, 2, 2, 1, 2, 1, 2, 1, 0, 2]))"
            ]
          },
          "metadata": {
            "tags": []
          },
          "execution_count": 154
        }
      ]
    },
    {
      "cell_type": "code",
      "metadata": {
        "id": "xhKLtCFGWnkD"
      },
      "source": [
        "y_train_one_hot = one_hot_encode(y_train)\n",
        "y_test_one_hot = one_hot_encode(y_test)"
      ],
      "execution_count": 155,
      "outputs": []
    },
    {
      "cell_type": "code",
      "metadata": {
        "id": "mYDnmpJiVNn6"
      },
      "source": [
        "def Gradient_Descent(X, y, lr, n_iterations):\n",
        "  m = len(X)\n",
        "  features = X.shape[1]\n",
        "  outputs = len(y[1])\n",
        "\n",
        "  theta = np.random.randn(features, outputs)\n",
        "\n",
        "  for iteration in range(n_iterations):\n",
        "    hypo = X.dot(theta)\n",
        "    # y_prob = softmax(hypo)\n",
        "    y_prob = sigmoid(hypo)\n",
        "\n",
        "    if iteration % 100 == 0:\n",
        "      cost = -1/m * np.sum(y * np.log(y_prob) + (1 - y)*np.log(1 - y_prob))\n",
        "      print(iteration, cost)\n",
        "\n",
        "    error = y_prob - y\n",
        "    gradients = 1/m * X.T.dot(error)\n",
        "    theta = theta - lr * gradients\n",
        "  \n",
        "  return theta"
      ],
      "execution_count": 156,
      "outputs": []
    },
    {
      "cell_type": "code",
      "metadata": {
        "colab": {
          "base_uri": "https://localhost:8080/"
        },
        "id": "HGOqpB5JWhUU",
        "outputId": "6e62caea-8adb-4427-a7e0-bf1b9f26188f"
      },
      "source": [
        "theta = Gradient_Descent(X_train, y_train_one_hot, 0.1, 1000)"
      ],
      "execution_count": 157,
      "outputs": [
        {
          "output_type": "stream",
          "text": [
            "0 10.850362053279836\n",
            "100 1.0194224920823411\n",
            "200 0.8917297977326342\n",
            "300 0.8222563303753565\n",
            "400 0.7768298449902159\n",
            "500 0.7448921314413318\n",
            "600 0.7213683471554925\n",
            "700 0.7034105692063504\n",
            "800 0.6892908713876862\n",
            "900 0.6779062711007677\n"
          ],
          "name": "stdout"
        }
      ]
    },
    {
      "cell_type": "code",
      "metadata": {
        "colab": {
          "base_uri": "https://localhost:8080/"
        },
        "id": "Yh8YASD7bhpQ",
        "outputId": "624a8ff1-f98d-44e4-ed2e-5c37e4d808d2"
      },
      "source": [
        "theta"
      ],
      "execution_count": 158,
      "outputs": [
        {
          "output_type": "execute_result",
          "data": {
            "text/plain": [
              "array([[ 0.20975716,  1.30012011, -1.57487281],\n",
              "       [ 0.31521227,  0.15052946, -2.20955342],\n",
              "       [ 2.26730676, -1.39312366, -1.75878242],\n",
              "       [-3.32257034,  1.05380291,  3.30540815],\n",
              "       [ 0.28965882, -2.29444327,  2.53854641]])"
            ]
          },
          "metadata": {
            "tags": []
          },
          "execution_count": 158
        }
      ]
    },
    {
      "cell_type": "code",
      "metadata": {
        "id": "HNL5hx6ibkzP"
      },
      "source": [
        "hypo = X_test.dot(theta)\n",
        "y_prob = sigmoid(hypo)\n",
        "y_pred = np.argmax(y_prob, axis=1)"
      ],
      "execution_count": 159,
      "outputs": []
    },
    {
      "cell_type": "code",
      "metadata": {
        "colab": {
          "base_uri": "https://localhost:8080/"
        },
        "id": "7R8lRNcohgSW",
        "outputId": "5f83feed-bda1-4e9f-cbc3-813a1ff41730"
      },
      "source": [
        "np.concatenate((y_test.reshape(len(y_test), 1), y_pred.reshape(len(y_pred), 1)), 1)"
      ],
      "execution_count": 160,
      "outputs": [
        {
          "output_type": "execute_result",
          "data": {
            "text/plain": [
              "array([[1, 1],\n",
              "       [0, 0],\n",
              "       [2, 2],\n",
              "       [1, 1],\n",
              "       [1, 1],\n",
              "       [0, 0],\n",
              "       [1, 1],\n",
              "       [2, 2],\n",
              "       [1, 1],\n",
              "       [1, 1],\n",
              "       [2, 2],\n",
              "       [0, 0],\n",
              "       [0, 0],\n",
              "       [0, 0],\n",
              "       [0, 0],\n",
              "       [1, 1],\n",
              "       [2, 2],\n",
              "       [1, 1],\n",
              "       [1, 1],\n",
              "       [2, 2],\n",
              "       [0, 0],\n",
              "       [2, 2],\n",
              "       [0, 0],\n",
              "       [2, 2],\n",
              "       [2, 2],\n",
              "       [2, 2],\n",
              "       [2, 2],\n",
              "       [2, 2],\n",
              "       [0, 0],\n",
              "       [0, 0],\n",
              "       [0, 0],\n",
              "       [0, 0],\n",
              "       [1, 1],\n",
              "       [0, 0],\n",
              "       [0, 0],\n",
              "       [2, 2],\n",
              "       [1, 1],\n",
              "       [0, 0],\n",
              "       [0, 0],\n",
              "       [0, 0],\n",
              "       [2, 2],\n",
              "       [1, 1],\n",
              "       [1, 1],\n",
              "       [0, 0],\n",
              "       [0, 0]])"
            ]
          },
          "metadata": {
            "tags": []
          },
          "execution_count": 160
        }
      ]
    },
    {
      "cell_type": "code",
      "metadata": {
        "colab": {
          "base_uri": "https://localhost:8080/"
        },
        "id": "3HZ115JZb-wy",
        "outputId": "de7daa4d-8451-43d8-cd73-bdf0d2ac6edf"
      },
      "source": [
        "from sklearn.metrics import accuracy_score\n",
        "accuracy_score(y_test, y_pred)"
      ],
      "execution_count": 161,
      "outputs": [
        {
          "output_type": "execute_result",
          "data": {
            "text/plain": [
              "1.0"
            ]
          },
          "metadata": {
            "tags": []
          },
          "execution_count": 161
        }
      ]
    },
    {
      "cell_type": "code",
      "metadata": {
        "colab": {
          "base_uri": "https://localhost:8080/"
        },
        "id": "z6sAHmKRgu3X",
        "outputId": "1d06a6e8-8039-45d4-c216-9c0b41220cd7"
      },
      "source": [
        "# single prediction\n",
        "X_try = np.array([[1. , 5.5, 2.4, 3.7, 1. ]])\n",
        "y_p = sigmoid(X_try.dot(theta))\n",
        "np.argmax(y_p, axis=1)"
      ],
      "execution_count": 162,
      "outputs": [
        {
          "output_type": "execute_result",
          "data": {
            "text/plain": [
              "array([1])"
            ]
          },
          "metadata": {
            "tags": []
          },
          "execution_count": 162
        }
      ]
    }
  ]
}