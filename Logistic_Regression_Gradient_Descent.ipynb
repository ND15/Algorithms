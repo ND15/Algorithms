{
  "nbformat": 4,
  "nbformat_minor": 0,
  "metadata": {
    "colab": {
      "name": "Loguistic_Regression_Gradient_Descent.ipynb",
      "provenance": [],
      "authorship_tag": "ABX9TyPfbO9WKpcS7u/UQ1r72di3",
      "include_colab_link": true
    },
    "kernelspec": {
      "name": "python3",
      "display_name": "Python 3"
    },
    "language_info": {
      "name": "python"
    }
  },
  "cells": [
    {
      "cell_type": "markdown",
      "metadata": {
        "id": "view-in-github",
        "colab_type": "text"
      },
      "source": [
        "<a href=\"https://colab.research.google.com/github/ND15/Algorithms/blob/main/Logistic_Regression_Gradient_Descent.ipynb\" target=\"_parent\"><img src=\"https://colab.research.google.com/assets/colab-badge.svg\" alt=\"Open In Colab\"/></a>"
      ]
    },
    {
      "cell_type": "markdown",
      "metadata": {
        "id": "rXHiDZappyjE"
      },
      "source": [
        "Implementation of **Gradient Descent** for **Logistic Regression**. \n",
        "But this may not work well for large dataset."
      ]
    },
    {
      "cell_type": "code",
      "metadata": {
        "id": "5LVMTNR9a8Lm"
      },
      "source": [
        "import numpy as np\n",
        "import pandas as pd\n",
        "import matplotlib.pyplot as plt"
      ],
      "execution_count": 761,
      "outputs": []
    },
    {
      "cell_type": "code",
      "metadata": {
        "id": "eJ5HhML2trwg"
      },
      "source": [
        "from sklearn import datasets\n",
        "iris = datasets.load_iris()\n",
        "X = iris[\"data\"][:, (2,3)]\n",
        "y = iris['target']"
      ],
      "execution_count": 763,
      "outputs": []
    },
    {
      "cell_type": "code",
      "metadata": {
        "id": "duPzix6Zbaf9"
      },
      "source": [
        "def softmax(z):\n",
        "    return np.exp(z) / np.sum(np.exp(z), axis = 1, keepdims = True)"
      ],
      "execution_count": 764,
      "outputs": []
    },
    {
      "cell_type": "code",
      "metadata": {
        "id": "Kves3c1hekgw"
      },
      "source": [
        "def conv_label(z):\n",
        "  return z.argmax(axis=1)"
      ],
      "execution_count": 765,
      "outputs": []
    },
    {
      "cell_type": "code",
      "metadata": {
        "id": "ah6Yk-Scbn-R"
      },
      "source": [
        "def gradient_descent(X, y, n_iterations, alpha=0.01):\n",
        "  theta = np.random.randn(3, 3)\n",
        "  m = len(X)\n",
        "  print(m)\n",
        "  for i in range(n_iterations):\n",
        "    gradients = (1 / m) * X.T.dot(softmax(X.dot(theta)) - y)\n",
        "    theta = theta - alpha * gradients\n",
        "  return theta"
      ],
      "execution_count": 766,
      "outputs": []
    },
    {
      "cell_type": "code",
      "metadata": {
        "id": "XYZJFtA5upu5"
      },
      "source": [
        "from sklearn.model_selection import train_test_split\n",
        "X_train, X_test, y_train, y_test = train_test_split(X, y, test_size=0.5, random_state=0)"
      ],
      "execution_count": 767,
      "outputs": []
    },
    {
      "cell_type": "code",
      "metadata": {
        "id": "gFxSiJGBdOM4",
        "colab": {
          "base_uri": "https://localhost:8080/"
        },
        "outputId": "de08fcb8-1231-4921-eca5-2f44b5b22f0b"
      },
      "source": [
        "y_b = y_train.reshape((len(y_train), 1))\n",
        "X_train_new = np.c_[np.ones((len(X_train), 1)), X_train]\n",
        "X_b = gradient_descent(X_train_new, y_b, 1000)"
      ],
      "execution_count": 768,
      "outputs": [
        {
          "output_type": "stream",
          "text": [
            "75\n"
          ],
          "name": "stdout"
        }
      ]
    },
    {
      "cell_type": "code",
      "metadata": {
        "colab": {
          "base_uri": "https://localhost:8080/"
        },
        "id": "5Ut_M2UCdwKv",
        "outputId": "2f81dc09-512a-4208-ee1f-59f4c5493671"
      },
      "source": [
        "X_test_new = np.c_[np.ones((len(X_test), 1)), X_test]\n",
        "y_pred = X_test_new.dot(X_b)\n",
        "print(y_pred.shape)\n",
        "y_pred = conv_label(y_pred)\n",
        "y_pred"
      ],
      "execution_count": 769,
      "outputs": [
        {
          "output_type": "stream",
          "text": [
            "(75, 3)\n"
          ],
          "name": "stdout"
        },
        {
          "output_type": "execute_result",
          "data": {
            "text/plain": [
              "array([2, 1, 0, 1, 0, 2, 0, 1, 1, 0, 1, 2, 1, 1, 1, 0, 2, 1, 0, 0, 2, 2,\n",
              "       0, 0, 2, 0, 0, 1, 0, 0, 1, 2, 0, 2, 2, 0, 0, 1, 0, 0, 2, 0, 2, 0,\n",
              "       0, 0, 1, 2, 1, 1, 1, 1, 2, 0, 2, 1, 2, 2, 1, 2, 2, 0, 2, 0, 0, 0,\n",
              "       1, 1, 0, 0, 1, 1, 0, 0, 1])"
            ]
          },
          "metadata": {
            "tags": []
          },
          "execution_count": 769
        }
      ]
    },
    {
      "cell_type": "code",
      "metadata": {
        "colab": {
          "base_uri": "https://localhost:8080/"
        },
        "id": "3XbC7wL_uk8x",
        "outputId": "27e36fdd-f0f1-4f1b-b7e0-015ee9b41f50"
      },
      "source": [
        "y_test"
      ],
      "execution_count": 770,
      "outputs": [
        {
          "output_type": "execute_result",
          "data": {
            "text/plain": [
              "array([2, 1, 0, 2, 0, 2, 0, 1, 1, 1, 2, 1, 1, 1, 1, 0, 1, 1, 0, 0, 2, 1,\n",
              "       0, 0, 2, 0, 0, 1, 1, 0, 2, 1, 0, 2, 2, 1, 0, 1, 1, 1, 2, 0, 2, 0,\n",
              "       0, 1, 2, 2, 2, 2, 1, 2, 1, 1, 2, 2, 2, 2, 1, 2, 1, 0, 2, 1, 1, 1,\n",
              "       1, 2, 0, 0, 2, 1, 0, 0, 1])"
            ]
          },
          "metadata": {
            "tags": []
          },
          "execution_count": 770
        }
      ]
    },
    {
      "cell_type": "code",
      "metadata": {
        "colab": {
          "base_uri": "https://localhost:8080/"
        },
        "id": "rpkWw-tEvQPK",
        "outputId": "158b5006-6bdf-45ec-f123-f22aeedd70ae"
      },
      "source": [
        "from sklearn.metrics import accuracy_score\n",
        "accuracy_score(y_test, y_pred)"
      ],
      "execution_count": 771,
      "outputs": [
        {
          "output_type": "execute_result",
          "data": {
            "text/plain": [
              "0.6533333333333333"
            ]
          },
          "metadata": {
            "tags": []
          },
          "execution_count": 771
        }
      ]
    }
  ]
}