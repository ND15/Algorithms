{
  "nbformat": 4,
  "nbformat_minor": 0,
  "metadata": {
    "colab": {
      "name": "Logistic_Regression_Gradient_Descent.ipynb",
      "provenance": [],
      "authorship_tag": "ABX9TyPUKalUdmoycdJGzlrC+TGF",
      "include_colab_link": true
    },
    "kernelspec": {
      "name": "python3",
      "display_name": "Python 3"
    },
    "language_info": {
      "name": "python"
    }
  },
  "cells": [
    {
      "cell_type": "markdown",
      "metadata": {
        "id": "view-in-github",
        "colab_type": "text"
      },
      "source": [
        "<a href=\"https://colab.research.google.com/github/ND15/Algorithms/blob/main/Logistic_Regression_Gradient_Descent.ipynb\" target=\"_parent\"><img src=\"https://colab.research.google.com/assets/colab-badge.svg\" alt=\"Open In Colab\"/></a>"
      ]
    },
    {
      "cell_type": "markdown",
      "metadata": {
        "id": "rXHiDZappyjE"
      },
      "source": [
        "Implementation of **Gradient Descent** for **Logistic Regression**. \n",
        "But this may not work well for large dataset."
      ]
    },
    {
      "cell_type": "code",
      "metadata": {
        "id": "5LVMTNR9a8Lm",
        "colab": {
          "base_uri": "https://localhost:8080/"
        },
        "outputId": "76718b8f-2167-4747-cdb6-34ea3b2b03d0"
      },
      "source": [
        "import numpy as np\n",
        "import pandas as pd\n",
        "import matplotlib.pyplot as plt\n",
        "np.seterr(divide='ignore', invalid='ignore')"
      ],
      "execution_count": 963,
      "outputs": [
        {
          "output_type": "execute_result",
          "data": {
            "text/plain": [
              "{'divide': 'ignore', 'invalid': 'ignore', 'over': 'warn', 'under': 'ignore'}"
            ]
          },
          "metadata": {
            "tags": []
          },
          "execution_count": 963
        }
      ]
    },
    {
      "cell_type": "code",
      "metadata": {
        "id": "eJ5HhML2trwg"
      },
      "source": [
        "from sklearn import datasets\n",
        "iris = datasets.load_iris()\n",
        "X = iris[\"data\"][:, (2,3)]\n",
        "y = iris['target']"
      ],
      "execution_count": 964,
      "outputs": []
    },
    {
      "cell_type": "code",
      "metadata": {
        "id": "duPzix6Zbaf9"
      },
      "source": [
        "def softmax(z):\n",
        "    return np.exp(z) / np.sum(np.exp(z), axis = 1, keepdims = True)"
      ],
      "execution_count": 965,
      "outputs": []
    },
    {
      "cell_type": "code",
      "metadata": {
        "id": "Kves3c1hekgw"
      },
      "source": [
        "def conv_label(z):\n",
        "  return z.argmax(axis=1)"
      ],
      "execution_count": 966,
      "outputs": []
    },
    {
      "cell_type": "code",
      "metadata": {
        "id": "ah6Yk-Scbn-R"
      },
      "source": [
        "def gradient_descent(X, y, n_iterations, alpha=0.01):\n",
        "  theta = np.random.randn(3, 3)\n",
        "  m = len(X)\n",
        "  print(m)\n",
        "  for i in range(n_iterations):\n",
        "    gradients = (1 / m) * X.T.dot(softmax(X.dot(theta)) - y)\n",
        "    theta = theta - (alpha/m) * gradients\n",
        "  return theta"
      ],
      "execution_count": 967,
      "outputs": []
    },
    {
      "cell_type": "code",
      "metadata": {
        "id": "XYZJFtA5upu5"
      },
      "source": [
        "from sklearn.model_selection import train_test_split\n",
        "X_train, X_test, y_train, y_test = train_test_split(X, y, test_size=0.2, random_state=0)"
      ],
      "execution_count": 968,
      "outputs": []
    },
    {
      "cell_type": "code",
      "metadata": {
        "id": "gFxSiJGBdOM4",
        "colab": {
          "base_uri": "https://localhost:8080/"
        },
        "outputId": "14ca51ad-c728-4f8c-dd57-26eb61790f6d"
      },
      "source": [
        "y_b = y_train.reshape((len(y_train), 1))\n",
        "X_train_new = np.c_[np.ones((len(X_train), 1)), X_train]\n",
        "X_b = gradient_descent(X_train_new, y_b, 1000)"
      ],
      "execution_count": 969,
      "outputs": [
        {
          "output_type": "stream",
          "text": [
            "120\n"
          ],
          "name": "stdout"
        }
      ]
    },
    {
      "cell_type": "code",
      "metadata": {
        "colab": {
          "base_uri": "https://localhost:8080/"
        },
        "id": "5Ut_M2UCdwKv",
        "outputId": "3354021e-c3d0-4b14-95ce-aa6b75bae1ce"
      },
      "source": [
        "X_test_new = np.c_[np.ones((len(X_test), 1)), X_test]\n",
        "y_pred = X_test_new.dot(X_b)\n",
        "print(y_pred.shape)\n",
        "y_pred = conv_label(y_pred)\n",
        "y_pred"
      ],
      "execution_count": 970,
      "outputs": [
        {
          "output_type": "stream",
          "text": [
            "(30, 3)\n"
          ],
          "name": "stdout"
        },
        {
          "output_type": "execute_result",
          "data": {
            "text/plain": [
              "array([1, 1, 0, 1, 0, 1, 0, 1, 1, 1, 1, 1, 1, 1, 1, 0, 1, 1, 0, 0, 1, 1,\n",
              "       0, 0, 1, 0, 0, 1, 1, 0])"
            ]
          },
          "metadata": {
            "tags": []
          },
          "execution_count": 970
        }
      ]
    },
    {
      "cell_type": "code",
      "metadata": {
        "colab": {
          "base_uri": "https://localhost:8080/"
        },
        "id": "3XbC7wL_uk8x",
        "outputId": "20961ffb-bc2d-455d-b0c6-a9e78819a379"
      },
      "source": [
        "y_test"
      ],
      "execution_count": 971,
      "outputs": [
        {
          "output_type": "execute_result",
          "data": {
            "text/plain": [
              "array([2, 1, 0, 2, 0, 2, 0, 1, 1, 1, 2, 1, 1, 1, 1, 0, 1, 1, 0, 0, 2, 1,\n",
              "       0, 0, 2, 0, 0, 1, 1, 0])"
            ]
          },
          "metadata": {
            "tags": []
          },
          "execution_count": 971
        }
      ]
    },
    {
      "cell_type": "code",
      "metadata": {
        "colab": {
          "base_uri": "https://localhost:8080/"
        },
        "id": "rpkWw-tEvQPK",
        "outputId": "c7080726-63d8-4d7a-a04b-0252fbb03822"
      },
      "source": [
        "from sklearn.metrics import accuracy_score\n",
        "accuracy_score(y_test, y_pred)"
      ],
      "execution_count": 972,
      "outputs": [
        {
          "output_type": "execute_result",
          "data": {
            "text/plain": [
              "0.8"
            ]
          },
          "metadata": {
            "tags": []
          },
          "execution_count": 972
        }
      ]
    }
  ]
}