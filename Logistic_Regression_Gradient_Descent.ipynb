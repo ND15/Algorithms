{
  "nbformat": 4,
  "nbformat_minor": 0,
  "metadata": {
    "colab": {
      "name": "Logistic_Regression_Gradient_Descent.ipynb",
      "provenance": [],
      "collapsed_sections": [],
      "authorship_tag": "ABX9TyNjuoilN2it3Z7lWPrmfLef",
      "include_colab_link": true
    },
    "kernelspec": {
      "name": "python3",
      "display_name": "Python 3"
    },
    "language_info": {
      "name": "python"
    }
  },
  "cells": [
    {
      "cell_type": "markdown",
      "metadata": {
        "id": "view-in-github",
        "colab_type": "text"
      },
      "source": [
        "<a href=\"https://colab.research.google.com/github/ND15/Algorithms/blob/main/Logistic_Regression_Gradient_Descent.ipynb\" target=\"_parent\"><img src=\"https://colab.research.google.com/assets/colab-badge.svg\" alt=\"Open In Colab\"/></a>"
      ]
    },
    {
      "cell_type": "markdown",
      "metadata": {
        "id": "rXHiDZappyjE"
      },
      "source": [
        "Implementation of **Gradient Descent** for **Logistic Regression**. \n",
        "But this may not work well for large dataset."
      ]
    },
    {
      "cell_type": "code",
      "metadata": {
        "id": "5LVMTNR9a8Lm"
      },
      "source": [
        "import numpy as np\n",
        "import pandas as pd\n"
      ],
      "execution_count": 1385,
      "outputs": []
    },
    {
      "cell_type": "code",
      "metadata": {
        "colab": {
          "base_uri": "https://localhost:8080/"
        },
        "id": "eJ5HhML2trwg",
        "outputId": "a4fdd6df-3fdc-4984-f636-52b495697976"
      },
      "source": [
        "from sklearn import datasets\n",
        "iris = datasets.load_iris()\n",
        "X = iris[\"data\"][:, 3:]\n",
        "y = (iris['target']==2).astype(int)\n",
        "y"
      ],
      "execution_count": 1386,
      "outputs": [
        {
          "output_type": "execute_result",
          "data": {
            "text/plain": [
              "array([0, 0, 0, 0, 0, 0, 0, 0, 0, 0, 0, 0, 0, 0, 0, 0, 0, 0, 0, 0, 0, 0,\n",
              "       0, 0, 0, 0, 0, 0, 0, 0, 0, 0, 0, 0, 0, 0, 0, 0, 0, 0, 0, 0, 0, 0,\n",
              "       0, 0, 0, 0, 0, 0, 0, 0, 0, 0, 0, 0, 0, 0, 0, 0, 0, 0, 0, 0, 0, 0,\n",
              "       0, 0, 0, 0, 0, 0, 0, 0, 0, 0, 0, 0, 0, 0, 0, 0, 0, 0, 0, 0, 0, 0,\n",
              "       0, 0, 0, 0, 0, 0, 0, 0, 0, 0, 0, 0, 1, 1, 1, 1, 1, 1, 1, 1, 1, 1,\n",
              "       1, 1, 1, 1, 1, 1, 1, 1, 1, 1, 1, 1, 1, 1, 1, 1, 1, 1, 1, 1, 1, 1,\n",
              "       1, 1, 1, 1, 1, 1, 1, 1, 1, 1, 1, 1, 1, 1, 1, 1, 1, 1])"
            ]
          },
          "metadata": {
            "tags": []
          },
          "execution_count": 1386
        }
      ]
    },
    {
      "cell_type": "code",
      "metadata": {
        "id": "duPzix6Zbaf9"
      },
      "source": [
        "def sigmoid(z):\n",
        "  return 1 / (1 + np.exp(-z))\n",
        "\n",
        "def softmax(z):\n",
        "    return np.exp(z) / np.sum(np.exp(z), axis = 1, keepdims = True)"
      ],
      "execution_count": 1387,
      "outputs": []
    },
    {
      "cell_type": "code",
      "metadata": {
        "id": "Kves3c1hekgw"
      },
      "source": [
        "def conv_label(z):\n",
        "  return z.argmax(axis=1)"
      ],
      "execution_count": 1388,
      "outputs": []
    },
    {
      "cell_type": "code",
      "metadata": {
        "id": "ah6Yk-Scbn-R"
      },
      "source": [
        "def gradient_descent(X, y, n_iterations, alpha=0.1):\n",
        "  theta = np.random.randn(2, 2)\n",
        "  m = len(X)\n",
        "  print(m)\n",
        "  for i in range(n_iterations):\n",
        "    gradients = (1 / m) * X.T.dot(softmax(X.dot(theta)) - y)\n",
        "    theta = theta - (alpha/m) * gradients\n",
        "  return theta"
      ],
      "execution_count": 1389,
      "outputs": []
    },
    {
      "cell_type": "code",
      "metadata": {
        "id": "XYZJFtA5upu5"
      },
      "source": [
        "from sklearn.model_selection import train_test_split\n",
        "X_train, X_test, y_train, y_test = train_test_split(X, y, test_size=0.2, random_state=12)"
      ],
      "execution_count": 1390,
      "outputs": []
    },
    {
      "cell_type": "code",
      "metadata": {
        "id": "gFxSiJGBdOM4",
        "colab": {
          "base_uri": "https://localhost:8080/"
        },
        "outputId": "32efbd98-5de4-4106-acaa-2b02431e895a"
      },
      "source": [
        "y_b = y_train.reshape((len(y_train), 1))\n",
        "X_train_new = np.c_[np.ones((len(X_train), 1)), X_train]\n",
        "X_b = gradient_descent(X_train_new, y_b, 10000)\n",
        "X_b.shape"
      ],
      "execution_count": 1391,
      "outputs": [
        {
          "output_type": "stream",
          "text": [
            "120\n"
          ],
          "name": "stdout"
        },
        {
          "output_type": "execute_result",
          "data": {
            "text/plain": [
              "(2, 2)"
            ]
          },
          "metadata": {
            "tags": []
          },
          "execution_count": 1391
        }
      ]
    },
    {
      "cell_type": "code",
      "metadata": {
        "colab": {
          "base_uri": "https://localhost:8080/"
        },
        "id": "5Ut_M2UCdwKv",
        "outputId": "b815a816-297e-4193-e57f-521c14205c82"
      },
      "source": [
        "X_test_new = np.c_[np.ones((len(X_test), 1)), X_test]\n",
        "y_pred = X_test_new.dot(X_b)\n",
        "print(y_pred.shape)\n",
        "y_pred = conv_label(y_pred)\n",
        "y_pred"
      ],
      "execution_count": 1392,
      "outputs": [
        {
          "output_type": "stream",
          "text": [
            "(30, 2)\n"
          ],
          "name": "stdout"
        },
        {
          "output_type": "execute_result",
          "data": {
            "text/plain": [
              "array([0, 1, 0, 0, 1, 1, 1, 0, 1, 0, 0, 0, 0, 0, 0, 1, 1, 0, 0, 0, 0, 0,\n",
              "       1, 0, 0, 1, 1, 0, 0, 0])"
            ]
          },
          "metadata": {
            "tags": []
          },
          "execution_count": 1392
        }
      ]
    },
    {
      "cell_type": "code",
      "metadata": {
        "colab": {
          "base_uri": "https://localhost:8080/"
        },
        "id": "3XbC7wL_uk8x",
        "outputId": "5e13047e-e26b-4154-a76a-b0dd3b6b61fd"
      },
      "source": [
        "y_test"
      ],
      "execution_count": 1393,
      "outputs": [
        {
          "output_type": "execute_result",
          "data": {
            "text/plain": [
              "array([0, 1, 0, 0, 1, 1, 1, 0, 1, 0, 0, 0, 0, 0, 0, 1, 1, 0, 0, 0, 0, 0,\n",
              "       1, 0, 0, 1, 0, 0, 0, 0])"
            ]
          },
          "metadata": {
            "tags": []
          },
          "execution_count": 1393
        }
      ]
    },
    {
      "cell_type": "code",
      "metadata": {
        "colab": {
          "base_uri": "https://localhost:8080/"
        },
        "id": "rpkWw-tEvQPK",
        "outputId": "540e5fdf-7a5b-4de2-ad2d-9fb39dbed88c"
      },
      "source": [
        "from sklearn.metrics import accuracy_score\n",
        "accuracy_score(y_test, y_pred)"
      ],
      "execution_count": 1394,
      "outputs": [
        {
          "output_type": "execute_result",
          "data": {
            "text/plain": [
              "0.9666666666666667"
            ]
          },
          "metadata": {
            "tags": []
          },
          "execution_count": 1394
        }
      ]
    },
    {
      "cell_type": "code",
      "metadata": {
        "colab": {
          "base_uri": "https://localhost:8080/"
        },
        "id": "ru1SMKzPBior",
        "outputId": "dada36e0-3149-4d97-b82a-50a3259f8346"
      },
      "source": [
        "X_b_p = np.c_[np.ones((len(X), 1)), X]\n",
        "y = X_b_p.dot(X_b)\n",
        "y = conv_label(y)\n",
        "y"
      ],
      "execution_count": 1395,
      "outputs": [
        {
          "output_type": "execute_result",
          "data": {
            "text/plain": [
              "array([0, 0, 0, 0, 0, 0, 0, 0, 0, 0, 0, 0, 0, 0, 0, 0, 0, 0, 0, 0, 0, 0,\n",
              "       0, 0, 0, 0, 0, 0, 0, 0, 0, 0, 0, 0, 0, 0, 0, 0, 0, 0, 0, 0, 0, 0,\n",
              "       0, 0, 0, 0, 0, 0, 0, 0, 0, 0, 0, 0, 1, 0, 0, 0, 0, 0, 0, 0, 0, 0,\n",
              "       0, 0, 0, 0, 1, 0, 0, 0, 0, 0, 0, 1, 0, 0, 0, 0, 0, 1, 0, 1, 0, 0,\n",
              "       0, 0, 0, 0, 0, 0, 0, 0, 0, 0, 0, 0, 1, 1, 1, 1, 1, 1, 1, 1, 1, 1,\n",
              "       1, 1, 1, 1, 1, 1, 1, 1, 1, 0, 1, 1, 1, 1, 1, 1, 1, 1, 1, 1, 1, 1,\n",
              "       1, 0, 0, 1, 1, 1, 1, 1, 1, 1, 1, 1, 1, 1, 1, 1, 1, 1])"
            ]
          },
          "metadata": {
            "tags": []
          },
          "execution_count": 1395
        }
      ]
    }
  ]
}
